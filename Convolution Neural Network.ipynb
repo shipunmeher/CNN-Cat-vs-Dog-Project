{
 "cells": [
  {
   "cell_type": "code",
   "execution_count": 1,
   "id": "889c993d-687c-4026-a82b-f2f6b605d1c9",
   "metadata": {},
   "outputs": [],
   "source": [
    "import pandas as pd\n",
    "import numpy as np\n",
    "import matplotlib.pyplot as plt\n",
    "import seaborn as sns\n",
    "import warnings\n",
    "warnings.filterwarnings('ignore')\n",
    "import keras\n",
    "import tensorflow as tf\n",
    "from keras.models import Sequential\n",
    "from keras.layers import Dense\n",
    "from tensorflow.keras.preprocessing.image import ImageDataGenerator\n",
    "from PIL import Image\n",
    "from keras.layers import Conv2D, MaxPooling2D, Flatten, Dense, Dropout"
   ]
  },
  {
   "cell_type": "code",
   "execution_count": 2,
   "id": "42c5cae3-b91b-4364-b452-98e2c60f7758",
   "metadata": {},
   "outputs": [
    {
     "name": "stdout",
     "output_type": "stream",
     "text": [
      "Found 8048 images belonging to 2 classes.\n"
     ]
    }
   ],
   "source": [
    "train_data = ImageDataGenerator(rescale = 1/255,\n",
    "                               shear_range= 0.2,\n",
    "                               zoom_range=0.2)\n",
    "\n",
    "training_set = train_data.flow_from_directory(r\"D:\\PROJECTS\\CNN Project\\Dataset\\training_set\",\n",
    "                                              target_size=(64, 64),\n",
    "                                              class_mode='binary')\n"
   ]
  },
  {
   "cell_type": "code",
   "execution_count": 3,
   "id": "1aa47994-9e67-4375-8e90-8ec828d2fa76",
   "metadata": {},
   "outputs": [
    {
     "data": {
      "text/plain": [
       "{'cats': 0, 'dogs': 1}"
      ]
     },
     "execution_count": 3,
     "metadata": {},
     "output_type": "execute_result"
    }
   ],
   "source": [
    "training_set.class_indices"
   ]
  },
  {
   "cell_type": "code",
   "execution_count": 4,
   "id": "5e5affbc-5b2c-47ad-abe4-23688901c20a",
   "metadata": {},
   "outputs": [
    {
     "name": "stdout",
     "output_type": "stream",
     "text": [
      "Found 2000 images belonging to 2 classes.\n"
     ]
    }
   ],
   "source": [
    "test_data = ImageDataGenerator(rescale = 1/255)\n",
    "\n",
    "testing_set = test_data.flow_from_directory(r\"D:\\PROJECTS\\CNN Project\\Dataset\\test_set\",\n",
    "                                              target_size=(64, 64),\n",
    "                                              class_mode='binary')"
   ]
  },
  {
   "cell_type": "markdown",
   "id": "2ebd931e-8b32-4004-9154-47ab5321ebb7",
   "metadata": {},
   "source": [
    "# Modelling of CNN"
   ]
  },
  {
   "cell_type": "code",
   "execution_count": 6,
   "id": "71d27dbb-dd0a-4fb8-813d-49cd25b3a4f3",
   "metadata": {},
   "outputs": [],
   "source": [
    "classifier = Sequential()"
   ]
  },
  {
   "cell_type": "markdown",
   "id": "4a4e763f-82ed-4830-a610-ec4b24b7b125",
   "metadata": {},
   "source": [
    "1-Convolution"
   ]
  },
  {
   "cell_type": "code",
   "execution_count": 8,
   "id": "0e435f63-5898-4d0b-b8f8-e45878edba01",
   "metadata": {},
   "outputs": [],
   "source": [
    "from keras.layers import Conv2D\n",
    "classifier.add(Conv2D(input_shape = [64,64,3],\n",
    "                     filters=32,\n",
    "                     kernel_size=3,\n",
    "                     activation='relu'))"
   ]
  },
  {
   "cell_type": "markdown",
   "id": "a8b85f3d-0ef1-43ec-9fed-e6c1625309d2",
   "metadata": {},
   "source": [
    "2-Max Pooling"
   ]
  },
  {
   "cell_type": "code",
   "execution_count": 10,
   "id": "1654f45e-2274-43f4-a41b-4256e5dfeb08",
   "metadata": {},
   "outputs": [],
   "source": [
    "from keras.layers import MaxPooling2D\n",
    "classifier.add(MaxPooling2D(pool_size=2,strides=2))"
   ]
  },
  {
   "cell_type": "markdown",
   "id": "6b5483a9-be5a-43f3-8156-2558006413dc",
   "metadata": {},
   "source": [
    "3-Flattening"
   ]
  },
  {
   "cell_type": "code",
   "execution_count": 12,
   "id": "f1810bea-0241-4d30-97ac-073472a956da",
   "metadata": {},
   "outputs": [],
   "source": [
    "from keras.layers import Flatten\n",
    "classifier.add(Flatten())"
   ]
  },
  {
   "cell_type": "markdown",
   "id": "27c847a4-f269-49e1-8a33-b60adad6fe51",
   "metadata": {},
   "source": [
    "4-Full Connection"
   ]
  },
  {
   "cell_type": "code",
   "execution_count": 14,
   "id": "a085a9d7-903f-427b-ae31-324453a5eb51",
   "metadata": {},
   "outputs": [
    {
     "name": "stdout",
     "output_type": "stream",
     "text": [
      "Epoch 1/10\n",
      "\u001b[1m252/252\u001b[0m \u001b[32m━━━━━━━━━━━━━━━━━━━━\u001b[0m\u001b[37m\u001b[0m \u001b[1m98s\u001b[0m 371ms/step - accuracy: 0.5708 - loss: 0.7337 - val_accuracy: 0.6830 - val_loss: 0.5978\n",
      "Epoch 2/10\n",
      "\u001b[1m252/252\u001b[0m \u001b[32m━━━━━━━━━━━━━━━━━━━━\u001b[0m\u001b[37m\u001b[0m \u001b[1m141s\u001b[0m 366ms/step - accuracy: 0.6663 - loss: 0.6085 - val_accuracy: 0.6935 - val_loss: 0.5779\n",
      "Epoch 3/10\n",
      "\u001b[1m252/252\u001b[0m \u001b[32m━━━━━━━━━━━━━━━━━━━━\u001b[0m\u001b[37m\u001b[0m \u001b[1m93s\u001b[0m 368ms/step - accuracy: 0.7065 - loss: 0.5668 - val_accuracy: 0.7185 - val_loss: 0.5630\n",
      "Epoch 4/10\n",
      "\u001b[1m252/252\u001b[0m \u001b[32m━━━━━━━━━━━━━━━━━━━━\u001b[0m\u001b[37m\u001b[0m \u001b[1m142s\u001b[0m 370ms/step - accuracy: 0.7375 - loss: 0.5260 - val_accuracy: 0.7260 - val_loss: 0.5461\n",
      "Epoch 5/10\n",
      "\u001b[1m252/252\u001b[0m \u001b[32m━━━━━━━━━━━━━━━━━━━━\u001b[0m\u001b[37m\u001b[0m \u001b[1m92s\u001b[0m 367ms/step - accuracy: 0.7524 - loss: 0.5054 - val_accuracy: 0.7290 - val_loss: 0.5739\n",
      "Epoch 6/10\n",
      "\u001b[1m252/252\u001b[0m \u001b[32m━━━━━━━━━━━━━━━━━━━━\u001b[0m\u001b[37m\u001b[0m \u001b[1m82s\u001b[0m 326ms/step - accuracy: 0.7868 - loss: 0.4564 - val_accuracy: 0.7250 - val_loss: 0.5814\n",
      "Epoch 7/10\n",
      "\u001b[1m252/252\u001b[0m \u001b[32m━━━━━━━━━━━━━━━━━━━━\u001b[0m\u001b[37m\u001b[0m \u001b[1m91s\u001b[0m 363ms/step - accuracy: 0.7907 - loss: 0.4477 - val_accuracy: 0.7180 - val_loss: 0.6087\n",
      "Epoch 8/10\n",
      "\u001b[1m252/252\u001b[0m \u001b[32m━━━━━━━━━━━━━━━━━━━━\u001b[0m\u001b[37m\u001b[0m \u001b[1m91s\u001b[0m 361ms/step - accuracy: 0.8022 - loss: 0.4223 - val_accuracy: 0.7285 - val_loss: 0.6118\n",
      "Epoch 9/10\n",
      "\u001b[1m252/252\u001b[0m \u001b[32m━━━━━━━━━━━━━━━━━━━━\u001b[0m\u001b[37m\u001b[0m \u001b[1m143s\u001b[0m 365ms/step - accuracy: 0.8126 - loss: 0.4039 - val_accuracy: 0.7470 - val_loss: 0.5538\n",
      "Epoch 10/10\n",
      "\u001b[1m252/252\u001b[0m \u001b[32m━━━━━━━━━━━━━━━━━━━━\u001b[0m\u001b[37m\u001b[0m \u001b[1m93s\u001b[0m 368ms/step - accuracy: 0.8319 - loss: 0.3669 - val_accuracy: 0.7505 - val_loss: 0.5958\n"
     ]
    },
    {
     "data": {
      "text/plain": [
       "<keras.src.callbacks.history.History at 0x18a5dd29730>"
      ]
     },
     "execution_count": 14,
     "metadata": {},
     "output_type": "execute_result"
    }
   ],
   "source": [
    "classifier.add(Dense(units=128,activation='relu'))\n",
    "classifier.add(Dense(units=128,activation='relu'))\n",
    "classifier.add(Dense(units=1,activation='sigmoid'))\n",
    "classifier.compile(optimizer='adam',loss='binary_crossentropy',\n",
    "                  metrics=['accuracy'])\n",
    "\n",
    "classifier.fit(x=training_set,validation_data=testing_set,epochs=10)"
   ]
  },
  {
   "cell_type": "markdown",
   "id": "8c698fdd-8edf-41b8-8025-21ae95423d05",
   "metadata": {},
   "source": [
    "# Evalution"
   ]
  },
  {
   "cell_type": "code",
   "execution_count": 28,
   "id": "306b27d4-b6b0-495a-909d-983193031cb9",
   "metadata": {},
   "outputs": [
    {
     "name": "stdout",
     "output_type": "stream",
     "text": [
      "\u001b[1m1/1\u001b[0m \u001b[32m━━━━━━━━━━━━━━━━━━━━\u001b[0m\u001b[37m\u001b[0m \u001b[1m0s\u001b[0m 59ms/step\n",
      "Prediction: CAT\n"
     ]
    }
   ],
   "source": [
    "# Replace 'your_image.jpg' with the actual image filename\n",
    "#1st Cat_Image\n",
    "test_image = Image.open(r\"C:\\Users\\Shipun Meher\\Desktop\\cat_dog.jpg\")\n",
    "\n",
    "#Data Preprocessing\n",
    "test_image = test_image.resize((64,64))\n",
    "test_image = np.array(test_image)\n",
    "test_image = np.expand_dims(test_image,axis=0)\n",
    "\n",
    "test_image = test_image / 255.0\n",
    "# Prediction\n",
    "\n",
    "result = classifier.predict(test_image)\n",
    "\n",
    "\n",
    "if result[0][0] > 0.5:\n",
    "    print(\"Prediction: DOG\")\n",
    "else:\n",
    "    print(\"Prediction: CAT\")"
   ]
  },
  {
   "cell_type": "code",
   "execution_count": 29,
   "id": "98e6cd73-aa19-4928-a44a-c8cada8a2d44",
   "metadata": {},
   "outputs": [
    {
     "name": "stdout",
     "output_type": "stream",
     "text": [
      "\u001b[1m1/1\u001b[0m \u001b[32m━━━━━━━━━━━━━━━━━━━━\u001b[0m\u001b[37m\u001b[0m \u001b[1m0s\u001b[0m 60ms/step\n",
      "Prediction: DOG\n"
     ]
    }
   ],
   "source": [
    "# Replace 'your_image.jpg' with the actual image filename\n",
    "# 2nd Dog Image\n",
    "test_image = Image.open(r\"C:\\Users\\Shipun Meher\\Desktop\\ddddddddddd.jpeg\")\n",
    "\n",
    "#Data Preprocessing\n",
    "test_image = test_image.resize((64,64))\n",
    "test_image = np.array(test_image)\n",
    "test_image = np.expand_dims(test_image,axis=0)\n",
    "\n",
    "test_image = test_image / 255.0\n",
    "# Prediction\n",
    "\n",
    "result = classifier.predict(test_image)\n",
    "\n",
    "\n",
    "if result[0][0] > 0.5:\n",
    "    print(\"Prediction: DOG\")\n",
    "else:\n",
    "    print(\"Prediction: CAT\")"
   ]
  },
  {
   "cell_type": "code",
   "execution_count": null,
   "id": "64e634b7-a269-4d3b-a1e7-0c06088c662a",
   "metadata": {},
   "outputs": [],
   "source": []
  },
  {
   "cell_type": "code",
   "execution_count": null,
   "id": "90c31083-4d23-403c-87fa-a0e1416f3015",
   "metadata": {},
   "outputs": [],
   "source": []
  }
 ],
 "metadata": {
  "kernelspec": {
   "display_name": "Python 3 (ipykernel)",
   "language": "python",
   "name": "python3"
  },
  "language_info": {
   "codemirror_mode": {
    "name": "ipython",
    "version": 3
   },
   "file_extension": ".py",
   "mimetype": "text/x-python",
   "name": "python",
   "nbconvert_exporter": "python",
   "pygments_lexer": "ipython3",
   "version": "3.12.4"
  }
 },
 "nbformat": 4,
 "nbformat_minor": 5
}
